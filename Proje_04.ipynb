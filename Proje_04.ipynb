sezarlanacakCumle = input("sezarlama: ")
with open("sezarla.txt","w",encoding="utf-8") as sezarla:
    sezarla.write(sezarlanacakCumle)

metin = "dünya çalışma ülke"
Turkcekelimeler = metin.split()

import string
talfabe = string.printable
alfabe = ["ç", "ğ", "ı", "ö", "ş", "ü", "Ç", "Ğ", "İ", "Ö", "Ş", "Ü"]
for i in talfabe:
    alfabe.append(i)

anahtar= 6
cumle = ""
sifrelesin = open("sezarla.txt",encoding="utf-8")
for j in sifrelesin.read():
    cumle += alfabe[(alfabe.index(j)+anahtar)%len(alfabe)]
print(cumle)
with open("Sezarlı Şifreler.txt","w",encoding="utf-8") as sezarli:
    sezarli.write(cumle)

sifrecoz=""
sifrecozsun = open("Sezarlı Şifreler.txt","r",encoding="utf-8")
for x in sifrecozsun.read():
    sifrecoz += alfabe[(alfabe.index(x) - anahtar)%len(alfabe)]
print(sifrecoz)

sifrecozsunk = open("Sezarlı Şifreler.txt",encoding="utf-8")
cozme = sifrecozsunk.read()
key = 0

for d in range(len(alfabe)):
  kirilanSifre = ""
  for tn in cozme:
    kirilanSifre += alfabe[(alfabe.index(tn)+d) % len(alfabe)]
  
  for nt in range(len(Turkcekelimeler)):
    if Turkcekelimeler[nt] in kirilanSifre:
      print("sifresi kirilmis cumle:  ",kirilanSifre)
      break
